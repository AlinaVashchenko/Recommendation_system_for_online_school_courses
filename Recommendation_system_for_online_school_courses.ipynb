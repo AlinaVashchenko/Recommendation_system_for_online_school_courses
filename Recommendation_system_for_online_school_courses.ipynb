{
 "cells": [
  {
   "attachments": {},
   "cell_type": "markdown",
   "metadata": {},
   "source": [
    "# Подготовка рекомендательной системы курсов для пользователей"
   ]
  },
  {
   "cell_type": "markdown",
   "metadata": {},
   "source": [
    "## ЗАДАЧИ\n",
    "Создать рекомендательную систему курсов в онлайн-школе MasterMind,\\\n",
    "благодаря которой можно будет предлагать клиентам интересные им курсы и тем самым повышать средний чек.\n",
    "\n",
    "## КОНКРЕТНЫЕ ШАГИ (ФОРМАЛИЗОВАННЫЕ ЗАДАЧИ)\n",
    "1) Подготовить и проанализировать данные с помощью SQL.\n",
    "2) Обработать данные средствами Python.\n",
    "3) Составить итоговую таблицу, которая станет основой рекомендательной системы."
   ]
  },
  {
   "attachments": {},
   "cell_type": "markdown",
   "metadata": {},
   "source": [
    "## 1) Работа с базой данных"
   ]
  },
  {
   "attachments": {},
   "cell_type": "markdown",
   "metadata": {},
   "source": [
    "Подсчитаем количество пользователей, купивших курсы:\n",
    "\n",
    "WITH courses AS\\\n",
    "( \\\n",
    "SELECT \\\n",
    "    &emsp;c.user_id,\\\n",
    "    &emsp;c.id AS cart_id,\\\n",
    "    &emsp;c.state,\\\n",
    "    &emsp;ci.resource_type,\\\n",
    "    &emsp;ci.resource_id\\\n",
    "FROM\\\n",
    "    &emsp;final.carts c\\\n",
    "    &emsp;JOIN final.cart_items ci ON c.id = ci.cart_id\\\n",
    ")\n",
    "\n",
    "SELECT\\\n",
    "    &emsp;COUNT(DISTINCT user_id) AS users_cnt\\\n",
    "FROM courses\\\n",
    "WHERE state = 'successful' AND resource_type = 'Course'\n",
    "\n",
    "### 49006 клиентов покупали курсы"
   ]
  },
  {
   "attachments": {},
   "cell_type": "markdown",
   "metadata": {},
   "source": [
    "Подсчитаем общее количество различных курсов:\n",
    "\n",
    "WITH courses AS\\\n",
    "(\\\n",
    "SELECT \\\n",
    "    &emsp;c.user_id,\\\n",
    "    &emsp;c.id AS cart_id,\\\n",
    "    &emsp;c.state,\\\n",
    "    &emsp;ci.resource_type,\\\n",
    "    &emsp;ci.resource_id\\\n",
    "FROM \\\n",
    "    &emsp;final.carts c\\\n",
    "    &emsp;JOIN final.cart_items ci ON c.id = ci.cart_id\\\n",
    ")\n",
    "\n",
    "SELECT\\\n",
    "    &emsp;COUNT(DISTINCT resource_id)\\\n",
    "FROM courses\\\n",
    "WHERE resource_type = 'Course'\n",
    "\n",
    "### Всего 127 курсов"
   ]
  },
  {
   "attachments": {},
   "cell_type": "markdown",
   "metadata": {},
   "source": [
    "Подсчитаем среднее число купленных курсов на одного клиента:\n",
    "\n",
    "WITH courses AS\\\n",
    "(\\\n",
    "SELECT \\\n",
    "    &emsp;c.user_id,\\\n",
    "    &emsp;c.id AS cart_id,\\\n",
    "    &emsp;c.state,\\\n",
    "    &emsp;ci.resource_type,\\\n",
    "    &emsp;ci.resource_id\\\n",
    "FROM \\\n",
    "    &emsp;final.carts c\\\n",
    "    &emsp;JOIN final.cart_items ci ON c.id = ci.cart_id\\\n",
    ")\n",
    "\n",
    "SELECT\\\n",
    "   &emsp;AVG(courses_cnt)\\\n",
    "FROM\\\n",
    "(SELECT\\\n",
    "    &emsp;user_id,\\\n",
    "    &emsp;COUNT(resource_id) as courses_cnt\\\n",
    "FROM courses\\\n",
    "WHERE resource_type = 'Course'\\\n",
    "AND state = 'successful'\\\n",
    "GROUP BY user_id) courses_per_user\n",
    "\n",
    "### Один клиент купил в среднем 1.44 курса"
   ]
  },
  {
   "attachments": {},
   "cell_type": "markdown",
   "metadata": {},
   "source": [
    "Подсчитаем количество клиентов, купивших больше одного курса:\n",
    "\n",
    "WITH courses AS\\\n",
    "(\\\n",
    "SELECT \\\n",
    "    &emsp;c.user_id,\\\n",
    "    &emsp;c.id AS cart_id,\\\n",
    "    &emsp;c.state,\\\n",
    "    &emsp;ci.resource_type,\\\n",
    "    &emsp;ci.resource_id\\\n",
    "FROM \\\n",
    "    &emsp;final.carts c \\\n",
    "    &emsp;JOIN final.cart_items ci ON c.id = ci.cart_id\\\n",
    ")\n",
    "\n",
    "SELECT\\\n",
    "    &emsp;COUNT(DISTINCT user_id) \\\n",
    "FROM\\\n",
    "(SELECT\\\n",
    "    &emsp;user_id,\\\n",
    "    &emsp;COUNT(DISTINCT resource_id) as courses_cnt\\\n",
    "FROM courses\\\n",
    "WHERE resource_type = 'Course' \\\n",
    "AND state = 'successful'\\\n",
    "GROUP BY user_id\\\n",
    "HAVING COUNT(DISTINCT resource_id) > 1) activ_users\n",
    "\n",
    "### 12656 клиентов купили больше одного курса"
   ]
  },
  {
   "attachments": {},
   "cell_type": "markdown",
   "metadata": {},
   "source": [
    "Подготовим файл с данными по продажам курсов в разрезе пользователей (купивших более одного курса):\n",
    "\n",
    "WITH courses AS\\\n",
    "(\\\n",
    "SELECT \\\n",
    "    &emsp;c.user_id,\\\n",
    "    &emsp;c.id AS cart_id,\\\n",
    "    &emsp;c.state,\\\n",
    "    &emsp;ci.resource_type,\\\n",
    "    &emsp;ci.resource_id\\\n",
    "FROM \\\n",
    "    &emsp;final.carts c \\\n",
    "    &emsp;JOIN final.cart_items ci ON c.id = ci.cart_id\\\n",
    ")\n",
    "\n",
    "SELECT DISTINCT\\\n",
    "    &emsp;user_id,\\\n",
    "    &emsp;resource_id\\\n",
    "FROM courses\\\n",
    "WHERE user_id IN\\\n",
    "(SELECT\\\n",
    "    &emsp;user_id\\\n",
    "FROM courses\\\n",
    "WHERE resource_type = 'Course' \\\n",
    "AND state = 'successful'\\\n",
    "GROUP BY user_id\\\n",
    "HAVING COUNT(DISTINCT resource_id) > 1)\\\n",
    "AND resource_type = 'Course'\\\n",
    "AND state = 'successful'\\\n",
    "ORDER BY 1"
   ]
  },
  {
   "attachments": {},
   "cell_type": "markdown",
   "metadata": {},
   "source": [
    "## 2) Обработка данных с помощью Python"
   ]
  },
  {
   "cell_type": "code",
   "execution_count": 22,
   "metadata": {},
   "outputs": [
    {
     "data": {
      "text/html": [
       "<div>\n",
       "<style scoped>\n",
       "    .dataframe tbody tr th:only-of-type {\n",
       "        vertical-align: middle;\n",
       "    }\n",
       "\n",
       "    .dataframe tbody tr th {\n",
       "        vertical-align: top;\n",
       "    }\n",
       "\n",
       "    .dataframe thead th {\n",
       "        text-align: right;\n",
       "    }\n",
       "</style>\n",
       "<table border=\"1\" class=\"dataframe\">\n",
       "  <thead>\n",
       "    <tr style=\"text-align: right;\">\n",
       "      <th></th>\n",
       "      <th>user_id</th>\n",
       "      <th>resource_id</th>\n",
       "    </tr>\n",
       "  </thead>\n",
       "  <tbody>\n",
       "    <tr>\n",
       "      <th>0</th>\n",
       "      <td>51</td>\n",
       "      <td>516</td>\n",
       "    </tr>\n",
       "    <tr>\n",
       "      <th>1</th>\n",
       "      <td>51</td>\n",
       "      <td>1099</td>\n",
       "    </tr>\n",
       "    <tr>\n",
       "      <th>2</th>\n",
       "      <td>6117</td>\n",
       "      <td>356</td>\n",
       "    </tr>\n",
       "    <tr>\n",
       "      <th>3</th>\n",
       "      <td>6117</td>\n",
       "      <td>357</td>\n",
       "    </tr>\n",
       "    <tr>\n",
       "      <th>4</th>\n",
       "      <td>6117</td>\n",
       "      <td>1125</td>\n",
       "    </tr>\n",
       "  </tbody>\n",
       "</table>\n",
       "</div>"
      ],
      "text/plain": [
       "   user_id  resource_id\n",
       "0       51          516\n",
       "1       51         1099\n",
       "2     6117          356\n",
       "3     6117          357\n",
       "4     6117         1125"
      ]
     },
     "execution_count": 22,
     "metadata": {},
     "output_type": "execute_result"
    }
   ],
   "source": [
    "# Считаем файл и ознакомимся с содержимым\n",
    "import pandas as pd\n",
    "df = pd.read_csv('users_courses.csv')\n",
    "df.head()"
   ]
  },
  {
   "cell_type": "code",
   "execution_count": 23,
   "metadata": {},
   "outputs": [
    {
     "name": "stdout",
     "output_type": "stream",
     "text": [
      "<class 'pandas.core.frame.DataFrame'>\n",
      "RangeIndex: 34074 entries, 0 to 34073\n",
      "Data columns (total 2 columns):\n",
      " #   Column       Non-Null Count  Dtype\n",
      "---  ------       --------------  -----\n",
      " 0   user_id      34074 non-null  int64\n",
      " 1   resource_id  34074 non-null  int64\n",
      "dtypes: int64(2)\n",
      "memory usage: 532.5 KB\n"
     ]
    }
   ],
   "source": [
    "df.info()"
   ]
  },
  {
   "attachments": {},
   "cell_type": "markdown",
   "metadata": {},
   "source": [
    "Сформируем таблицу со списком всех купленных курсов по каждому пользователю:"
   ]
  },
  {
   "cell_type": "code",
   "execution_count": 24,
   "metadata": {},
   "outputs": [
    {
     "data": {
      "text/html": [
       "<div>\n",
       "<style scoped>\n",
       "    .dataframe tbody tr th:only-of-type {\n",
       "        vertical-align: middle;\n",
       "    }\n",
       "\n",
       "    .dataframe tbody tr th {\n",
       "        vertical-align: top;\n",
       "    }\n",
       "\n",
       "    .dataframe thead th {\n",
       "        text-align: right;\n",
       "    }\n",
       "</style>\n",
       "<table border=\"1\" class=\"dataframe\">\n",
       "  <thead>\n",
       "    <tr style=\"text-align: right;\">\n",
       "      <th></th>\n",
       "      <th>user_id</th>\n",
       "      <th>resource_id</th>\n",
       "    </tr>\n",
       "  </thead>\n",
       "  <tbody>\n",
       "    <tr>\n",
       "      <th>0</th>\n",
       "      <td>51</td>\n",
       "      <td>[516, 1099]</td>\n",
       "    </tr>\n",
       "    <tr>\n",
       "      <th>1</th>\n",
       "      <td>6117</td>\n",
       "      <td>[356, 357, 1125]</td>\n",
       "    </tr>\n",
       "    <tr>\n",
       "      <th>2</th>\n",
       "      <td>10275</td>\n",
       "      <td>[553, 1147]</td>\n",
       "    </tr>\n",
       "    <tr>\n",
       "      <th>3</th>\n",
       "      <td>10457</td>\n",
       "      <td>[361, 1138]</td>\n",
       "    </tr>\n",
       "    <tr>\n",
       "      <th>4</th>\n",
       "      <td>17166</td>\n",
       "      <td>[356, 357]</td>\n",
       "    </tr>\n",
       "  </tbody>\n",
       "</table>\n",
       "</div>"
      ],
      "text/plain": [
       "   user_id       resource_id\n",
       "0       51       [516, 1099]\n",
       "1     6117  [356, 357, 1125]\n",
       "2    10275       [553, 1147]\n",
       "3    10457       [361, 1138]\n",
       "4    17166        [356, 357]"
      ]
     },
     "execution_count": 24,
     "metadata": {},
     "output_type": "execute_result"
    }
   ],
   "source": [
    "users = df.groupby('user_id')['resource_id'].agg(list).reset_index()\n",
    "users.head()"
   ]
  },
  {
   "cell_type": "code",
   "execution_count": 25,
   "metadata": {},
   "outputs": [
    {
     "data": {
      "text/html": [
       "<div>\n",
       "<style scoped>\n",
       "    .dataframe tbody tr th:only-of-type {\n",
       "        vertical-align: middle;\n",
       "    }\n",
       "\n",
       "    .dataframe tbody tr th {\n",
       "        vertical-align: top;\n",
       "    }\n",
       "\n",
       "    .dataframe thead th {\n",
       "        text-align: right;\n",
       "    }\n",
       "</style>\n",
       "<table border=\"1\" class=\"dataframe\">\n",
       "  <thead>\n",
       "    <tr style=\"text-align: right;\">\n",
       "      <th></th>\n",
       "      <th>user_id</th>\n",
       "      <th>resource_id</th>\n",
       "    </tr>\n",
       "  </thead>\n",
       "  <tbody>\n",
       "    <tr>\n",
       "      <th>0</th>\n",
       "      <td>51</td>\n",
       "      <td>[516, 1099]</td>\n",
       "    </tr>\n",
       "    <tr>\n",
       "      <th>1</th>\n",
       "      <td>6117</td>\n",
       "      <td>[356, 357, 1125]</td>\n",
       "    </tr>\n",
       "    <tr>\n",
       "      <th>2</th>\n",
       "      <td>10275</td>\n",
       "      <td>[553, 1147]</td>\n",
       "    </tr>\n",
       "    <tr>\n",
       "      <th>3</th>\n",
       "      <td>10457</td>\n",
       "      <td>[361, 1138]</td>\n",
       "    </tr>\n",
       "    <tr>\n",
       "      <th>4</th>\n",
       "      <td>17166</td>\n",
       "      <td>[356, 357]</td>\n",
       "    </tr>\n",
       "  </tbody>\n",
       "</table>\n",
       "</div>"
      ],
      "text/plain": [
       "   user_id       resource_id\n",
       "0       51       [516, 1099]\n",
       "1     6117  [356, 357, 1125]\n",
       "2    10275       [553, 1147]\n",
       "3    10457       [361, 1138]\n",
       "4    17166        [356, 357]"
      ]
     },
     "execution_count": 25,
     "metadata": {},
     "output_type": "execute_result"
    }
   ],
   "source": [
    "# Отсортируем номера курсов в списках по возрастанию:\n",
    "for lst in users.resource_id:\n",
    "    lst.sort()\n",
    "users.head()"
   ]
  },
  {
   "cell_type": "code",
   "execution_count": 26,
   "metadata": {},
   "outputs": [],
   "source": [
    "# Для формирования всех возможные пар из курсов для каждого пользователя \n",
    "# импортируем функцию combinations и напишем функцию на её основе\n",
    "\n",
    "from itertools import combinations\n",
    "\n",
    "def get_pairs(row):\n",
    "    return list(combinations(row, 2))      \n",
    "        "
   ]
  },
  {
   "attachments": {},
   "cell_type": "markdown",
   "metadata": {},
   "source": [
    "Формируем столбец со списком всех возможных пар курсов по каждому пользователю:"
   ]
  },
  {
   "cell_type": "code",
   "execution_count": 27,
   "metadata": {},
   "outputs": [
    {
     "data": {
      "text/html": [
       "<div>\n",
       "<style scoped>\n",
       "    .dataframe tbody tr th:only-of-type {\n",
       "        vertical-align: middle;\n",
       "    }\n",
       "\n",
       "    .dataframe tbody tr th {\n",
       "        vertical-align: top;\n",
       "    }\n",
       "\n",
       "    .dataframe thead th {\n",
       "        text-align: right;\n",
       "    }\n",
       "</style>\n",
       "<table border=\"1\" class=\"dataframe\">\n",
       "  <thead>\n",
       "    <tr style=\"text-align: right;\">\n",
       "      <th></th>\n",
       "      <th>user_id</th>\n",
       "      <th>resource_id</th>\n",
       "      <th>pairs</th>\n",
       "    </tr>\n",
       "  </thead>\n",
       "  <tbody>\n",
       "    <tr>\n",
       "      <th>0</th>\n",
       "      <td>51</td>\n",
       "      <td>[516, 1099]</td>\n",
       "      <td>[(516, 1099)]</td>\n",
       "    </tr>\n",
       "    <tr>\n",
       "      <th>1</th>\n",
       "      <td>6117</td>\n",
       "      <td>[356, 357, 1125]</td>\n",
       "      <td>[(356, 357), (356, 1125), (357, 1125)]</td>\n",
       "    </tr>\n",
       "    <tr>\n",
       "      <th>2</th>\n",
       "      <td>10275</td>\n",
       "      <td>[553, 1147]</td>\n",
       "      <td>[(553, 1147)]</td>\n",
       "    </tr>\n",
       "    <tr>\n",
       "      <th>3</th>\n",
       "      <td>10457</td>\n",
       "      <td>[361, 1138]</td>\n",
       "      <td>[(361, 1138)]</td>\n",
       "    </tr>\n",
       "    <tr>\n",
       "      <th>4</th>\n",
       "      <td>17166</td>\n",
       "      <td>[356, 357]</td>\n",
       "      <td>[(356, 357)]</td>\n",
       "    </tr>\n",
       "  </tbody>\n",
       "</table>\n",
       "</div>"
      ],
      "text/plain": [
       "   user_id       resource_id                                   pairs\n",
       "0       51       [516, 1099]                           [(516, 1099)]\n",
       "1     6117  [356, 357, 1125]  [(356, 357), (356, 1125), (357, 1125)]\n",
       "2    10275       [553, 1147]                           [(553, 1147)]\n",
       "3    10457       [361, 1138]                           [(361, 1138)]\n",
       "4    17166        [356, 357]                            [(356, 357)]"
      ]
     },
     "execution_count": 27,
     "metadata": {},
     "output_type": "execute_result"
    }
   ],
   "source": [
    "users['pairs'] = users['resource_id'].apply(get_pairs)\n",
    "users.head()"
   ]
  },
  {
   "cell_type": "code",
   "execution_count": 28,
   "metadata": {},
   "outputs": [
    {
     "data": {
      "text/html": [
       "<div>\n",
       "<style scoped>\n",
       "    .dataframe tbody tr th:only-of-type {\n",
       "        vertical-align: middle;\n",
       "    }\n",
       "\n",
       "    .dataframe tbody tr th {\n",
       "        vertical-align: top;\n",
       "    }\n",
       "\n",
       "    .dataframe thead th {\n",
       "        text-align: right;\n",
       "    }\n",
       "</style>\n",
       "<table border=\"1\" class=\"dataframe\">\n",
       "  <thead>\n",
       "    <tr style=\"text-align: right;\">\n",
       "      <th></th>\n",
       "      <th>user_id</th>\n",
       "      <th>resource_id</th>\n",
       "      <th>pairs</th>\n",
       "    </tr>\n",
       "  </thead>\n",
       "  <tbody>\n",
       "    <tr>\n",
       "      <th>0</th>\n",
       "      <td>51</td>\n",
       "      <td>[516, 1099]</td>\n",
       "      <td>(516, 1099)</td>\n",
       "    </tr>\n",
       "    <tr>\n",
       "      <th>1</th>\n",
       "      <td>6117</td>\n",
       "      <td>[356, 357, 1125]</td>\n",
       "      <td>(356, 357)</td>\n",
       "    </tr>\n",
       "    <tr>\n",
       "      <th>1</th>\n",
       "      <td>6117</td>\n",
       "      <td>[356, 357, 1125]</td>\n",
       "      <td>(356, 1125)</td>\n",
       "    </tr>\n",
       "    <tr>\n",
       "      <th>1</th>\n",
       "      <td>6117</td>\n",
       "      <td>[356, 357, 1125]</td>\n",
       "      <td>(357, 1125)</td>\n",
       "    </tr>\n",
       "    <tr>\n",
       "      <th>2</th>\n",
       "      <td>10275</td>\n",
       "      <td>[553, 1147]</td>\n",
       "      <td>(553, 1147)</td>\n",
       "    </tr>\n",
       "  </tbody>\n",
       "</table>\n",
       "</div>"
      ],
      "text/plain": [
       "   user_id       resource_id        pairs\n",
       "0       51       [516, 1099]  (516, 1099)\n",
       "1     6117  [356, 357, 1125]   (356, 357)\n",
       "1     6117  [356, 357, 1125]  (356, 1125)\n",
       "1     6117  [356, 357, 1125]  (357, 1125)\n",
       "2    10275       [553, 1147]  (553, 1147)"
      ]
     },
     "execution_count": 28,
     "metadata": {},
     "output_type": "execute_result"
    }
   ],
   "source": [
    "# Чтобы разделить пары курсов, воспользуемся функцией explode()\n",
    "pairs = users.explode('pairs')\n",
    "pairs.head()"
   ]
  },
  {
   "attachments": {},
   "cell_type": "markdown",
   "metadata": {},
   "source": [
    "Создадим список уникальных пар курсов:"
   ]
  },
  {
   "cell_type": "code",
   "execution_count": 29,
   "metadata": {},
   "outputs": [
    {
     "data": {
      "text/plain": [
       "3989"
      ]
     },
     "execution_count": 29,
     "metadata": {},
     "output_type": "execute_result"
    }
   ],
   "source": [
    "pairs_unique_lst = []\n",
    "for pair in pairs['pairs']:\n",
    "    if pair not in pairs_unique_lst:\n",
    "        pairs_unique_lst.append(pair)\n",
    "len(pairs_unique_lst)"
   ]
  },
  {
   "attachments": {},
   "cell_type": "markdown",
   "metadata": {},
   "source": [
    "Всего получилось **3989** уникальных пар"
   ]
  },
  {
   "attachments": {},
   "cell_type": "markdown",
   "metadata": {},
   "source": [
    "Для подсчёта частотности каждой пары импортируем класс Counter и выведем 30 самых популярных пар:"
   ]
  },
  {
   "cell_type": "code",
   "execution_count": 30,
   "metadata": {},
   "outputs": [
    {
     "data": {
      "text/plain": [
       "[((551, 566), 797),\n",
       " ((515, 551), 417),\n",
       " ((489, 551), 311),\n",
       " ((523, 551), 304),\n",
       " ((566, 794), 290),\n",
       " ((489, 515), 286),\n",
       " ((490, 566), 253),\n",
       " ((490, 551), 247),\n",
       " ((570, 752), 247),\n",
       " ((569, 572), 216),\n",
       " ((515, 523), 213),\n",
       " ((553, 745), 212),\n",
       " ((489, 523), 206),\n",
       " ((569, 840), 204),\n",
       " ((514, 551), 200),\n",
       " ((516, 745), 199),\n",
       " ((515, 566), 195),\n",
       " ((489, 566), 188),\n",
       " ((504, 572), 184),\n",
       " ((572, 840), 178),\n",
       " ((551, 552), 177),\n",
       " ((507, 570), 172),\n",
       " ((490, 809), 163),\n",
       " ((489, 490), 152),\n",
       " ((507, 752), 150),\n",
       " ((523, 552), 144),\n",
       " ((490, 515), 143),\n",
       " ((551, 570), 142),\n",
       " ((504, 569), 139),\n",
       " ((514, 515), 139)]"
      ]
     },
     "execution_count": 30,
     "metadata": {},
     "output_type": "execute_result"
    }
   ],
   "source": [
    "from collections import Counter\n",
    "all_pairs_lst = []\n",
    "for pair in pairs['pairs']:\n",
    "    all_pairs_lst.append(pair)\n",
    "pairs_counter = Counter(all_pairs_lst)\n",
    "pairs_counter.most_common(30)"
   ]
  },
  {
   "attachments": {},
   "cell_type": "markdown",
   "metadata": {},
   "source": [
    "По этим данным мы можем провести условную границу, что самые популярные пары курсов встречались более 100 раз."
   ]
  },
  {
   "attachments": {},
   "cell_type": "markdown",
   "metadata": {},
   "source": [
    "Преобразуем полученные данные по всем парам курсов в датафрейм:"
   ]
  },
  {
   "cell_type": "code",
   "execution_count": 31,
   "metadata": {},
   "outputs": [
    {
     "data": {
      "text/html": [
       "<div>\n",
       "<style scoped>\n",
       "    .dataframe tbody tr th:only-of-type {\n",
       "        vertical-align: middle;\n",
       "    }\n",
       "\n",
       "    .dataframe tbody tr th {\n",
       "        vertical-align: top;\n",
       "    }\n",
       "\n",
       "    .dataframe thead th {\n",
       "        text-align: right;\n",
       "    }\n",
       "</style>\n",
       "<table border=\"1\" class=\"dataframe\">\n",
       "  <thead>\n",
       "    <tr style=\"text-align: right;\">\n",
       "      <th></th>\n",
       "      <th>pair</th>\n",
       "      <th>cnt</th>\n",
       "    </tr>\n",
       "  </thead>\n",
       "  <tbody>\n",
       "    <tr>\n",
       "      <th>0</th>\n",
       "      <td>(551, 566)</td>\n",
       "      <td>797</td>\n",
       "    </tr>\n",
       "    <tr>\n",
       "      <th>1</th>\n",
       "      <td>(515, 551)</td>\n",
       "      <td>417</td>\n",
       "    </tr>\n",
       "    <tr>\n",
       "      <th>2</th>\n",
       "      <td>(489, 551)</td>\n",
       "      <td>311</td>\n",
       "    </tr>\n",
       "    <tr>\n",
       "      <th>3</th>\n",
       "      <td>(523, 551)</td>\n",
       "      <td>304</td>\n",
       "    </tr>\n",
       "    <tr>\n",
       "      <th>4</th>\n",
       "      <td>(566, 794)</td>\n",
       "      <td>290</td>\n",
       "    </tr>\n",
       "  </tbody>\n",
       "</table>\n",
       "</div>"
      ],
      "text/plain": [
       "         pair  cnt\n",
       "0  (551, 566)  797\n",
       "1  (515, 551)  417\n",
       "2  (489, 551)  311\n",
       "3  (523, 551)  304\n",
       "4  (566, 794)  290"
      ]
     },
     "execution_count": 31,
     "metadata": {},
     "output_type": "execute_result"
    }
   ],
   "source": [
    "pairs_cnt_df = pd.DataFrame.from_dict(pairs_counter, orient='index').reset_index()\n",
    "pairs_cnt_df.columns = ['pair', 'cnt']\n",
    "pairs_cnt_df = pairs_cnt_df.sort_values(by='cnt', ascending=False)\n",
    "pairs_cnt_df.reset_index(drop=True, inplace=True)\n",
    "pairs_cnt_df.head()\n"
   ]
  },
  {
   "attachments": {},
   "cell_type": "markdown",
   "metadata": {},
   "source": [
    "### Для формирования рекомендаций создадим датафрейм с самыми популярными парами. \n",
    "Для нас это будут пары курсов, купленные клиентами более 100 раз. \\\n",
    "Всего таких пар 50. \n",
    "Так мы исключим из рекомендательной системы курсы, \\\n",
    "не нашедшие достаточной популярности у пользователей."
   ]
  },
  {
   "cell_type": "code",
   "execution_count": 32,
   "metadata": {},
   "outputs": [
    {
     "data": {
      "text/plain": [
       "50"
      ]
     },
     "execution_count": 32,
     "metadata": {},
     "output_type": "execute_result"
    }
   ],
   "source": [
    "popular_pairs = pairs_cnt_df[pairs_cnt_df['cnt'] > 100]\n",
    "len(popular_pairs)"
   ]
  },
  {
   "cell_type": "code",
   "execution_count": 33,
   "metadata": {},
   "outputs": [],
   "source": [
    "# Сформируем список наиболее популярных пар курсов\n",
    "popular_pairs_lst = list(popular_pairs['pair'])"
   ]
  },
  {
   "attachments": {},
   "cell_type": "markdown",
   "metadata": {},
   "source": [
    "### Для создания таблицы рекомендаций нам понадобится список всех курсов,\n",
    "### на основе которого создадим новый датафрейм:"
   ]
  },
  {
   "cell_type": "code",
   "execution_count": 34,
   "metadata": {},
   "outputs": [
    {
     "data": {
      "text/html": [
       "<div>\n",
       "<style scoped>\n",
       "    .dataframe tbody tr th:only-of-type {\n",
       "        vertical-align: middle;\n",
       "    }\n",
       "\n",
       "    .dataframe tbody tr th {\n",
       "        vertical-align: top;\n",
       "    }\n",
       "\n",
       "    .dataframe thead th {\n",
       "        text-align: right;\n",
       "    }\n",
       "</style>\n",
       "<table border=\"1\" class=\"dataframe\">\n",
       "  <thead>\n",
       "    <tr style=\"text-align: right;\">\n",
       "      <th></th>\n",
       "      <th>course</th>\n",
       "    </tr>\n",
       "  </thead>\n",
       "  <tbody>\n",
       "    <tr>\n",
       "      <th>0</th>\n",
       "      <td>356</td>\n",
       "    </tr>\n",
       "    <tr>\n",
       "      <th>1</th>\n",
       "      <td>357</td>\n",
       "    </tr>\n",
       "    <tr>\n",
       "      <th>2</th>\n",
       "      <td>358</td>\n",
       "    </tr>\n",
       "    <tr>\n",
       "      <th>3</th>\n",
       "      <td>359</td>\n",
       "    </tr>\n",
       "    <tr>\n",
       "      <th>4</th>\n",
       "      <td>360</td>\n",
       "    </tr>\n",
       "  </tbody>\n",
       "</table>\n",
       "</div>"
      ],
      "text/plain": [
       "   course\n",
       "0     356\n",
       "1     357\n",
       "2     358\n",
       "3     359\n",
       "4     360"
      ]
     },
     "execution_count": 34,
     "metadata": {},
     "output_type": "execute_result"
    }
   ],
   "source": [
    "courses_lst = list(df.resource_id.unique())\n",
    "courses_lst.sort()\n",
    "recom_table = pd.DataFrame(courses_lst, columns=['course'])\n",
    "recom_table.head()"
   ]
  },
  {
   "attachments": {},
   "cell_type": "markdown",
   "metadata": {},
   "source": [
    "Создадим список самых популярных курсов на основе созданного ранее списка популярных пар:"
   ]
  },
  {
   "cell_type": "code",
   "execution_count": 35,
   "metadata": {},
   "outputs": [
    {
     "data": {
      "text/plain": [
       "30"
      ]
     },
     "execution_count": 35,
     "metadata": {},
     "output_type": "execute_result"
    }
   ],
   "source": [
    "popular_courses = []\n",
    "for lst in popular_pairs_lst:\n",
    "    for el in lst:\n",
    "        if el not in popular_courses:\n",
    "            popular_courses.append(el)\n",
    "len(popular_courses)"
   ]
  },
  {
   "attachments": {},
   "cell_type": "markdown",
   "metadata": {},
   "source": [
    "### Всего получилось 30 курсов. Именно эти курсы встречались в парах более 100 раз."
   ]
  },
  {
   "attachments": {},
   "cell_type": "markdown",
   "metadata": {},
   "source": [
    "## 3) Создание таблицы рекомендаций"
   ]
  },
  {
   "attachments": {},
   "cell_type": "markdown",
   "metadata": {},
   "source": [
    "Создадим функцию, которая будет рекомендовать по 2 курса для каждого курса из списка.\\\n",
    "Прежде всего функция проверяет, оказался ли курс в одной из самых популярных пар (из списка popular_pairs_lst).\\\n",
    "В рекомендации попадают два самых популярных курса из соответствующих пар.\\\n",
    "Если курс не входит в топ-лист или попал туда только однократно, \\\n",
    "для обеих или только второй рекомендации выбирается один из курсов из списка самых популярных курсов popular_courses.\\\n",
    "Первой рекомендацией будет курс из топ-10, второй - любой из всего списка.\\\n",
    "Таким образом, с одной стороны, мы концентрируем внимание на тех курсах, \\\n",
    "которые больше всего любят пользователи (топ-10), \\\n",
    "а значит, повышаем вероятность совершения пользователем ещё одной покупки. \\\n",
    "С другой стороны, второй рекомендацией из топ-30 мы даём возможность стать известнее курсам, \\\n",
    "которые, похоже, ещё только набирают популярность у пользователей \\\n",
    "и могут стать со временем новыми топовыми рекомендациями."
   ]
  },
  {
   "cell_type": "code",
   "execution_count": 36,
   "metadata": {},
   "outputs": [],
   "source": [
    "import random\n",
    "\n",
    "def get_recommendation(course):\n",
    "    rec_lst = []\n",
    "    recs = []\n",
    "    rec_1 = None\n",
    "    rec_2 = None\n",
    "    for pair in popular_pairs_lst:\n",
    "        if course in pair:\n",
    "            rec_lst.append([*(pair)])\n",
    "        if len(rec_lst) == 2:\n",
    "            break   \n",
    "    for lst in rec_lst:\n",
    "        lst.remove(course)\n",
    "        recs.append(*lst)\n",
    "    if len(recs) == 1:\n",
    "        rec_1 = recs[0]\n",
    "        rec_2 = random.choice(popular_courses[:11])\n",
    "    elif len(rec_lst) == 0:\n",
    "        rec_1 = random.choice(popular_courses[:11])\n",
    "        rec_2 = random.choice(popular_courses)\n",
    "    else:\n",
    "        rec_1, rec_2 = recs   \n",
    "    return [rec_1, rec_2]\n",
    "        "
   ]
  },
  {
   "attachments": {},
   "cell_type": "markdown",
   "metadata": {},
   "source": [
    "Используя функцию, создадим столбец с рекомендуемыми курсами и преобразуем его затем в два столбца."
   ]
  },
  {
   "cell_type": "code",
   "execution_count": 37,
   "metadata": {},
   "outputs": [],
   "source": [
    "\n",
    "recom_table['recommended'] = list(recom_table['course'].apply(get_recommendation))\n",
    "recom_table[['recommendation_1','recommendation_2']] = \\\n",
    "    pd.DataFrame(recom_table.recommended.to_list(), index=recom_table.index)\n",
    "recom_table.drop('recommended', axis=1, inplace=True)\n",
    "recom_table = recom_table.set_index('course')\n"
   ]
  },
  {
   "attachments": {},
   "cell_type": "markdown",
   "metadata": {},
   "source": [
    "Выведем на экран получившуюся таблицу:"
   ]
  },
  {
   "cell_type": "code",
   "execution_count": 38,
   "metadata": {},
   "outputs": [
    {
     "data": {
      "text/html": [
       "<div>\n",
       "<style scoped>\n",
       "    .dataframe tbody tr th:only-of-type {\n",
       "        vertical-align: middle;\n",
       "    }\n",
       "\n",
       "    .dataframe tbody tr th {\n",
       "        vertical-align: top;\n",
       "    }\n",
       "\n",
       "    .dataframe thead th {\n",
       "        text-align: right;\n",
       "    }\n",
       "</style>\n",
       "<table border=\"1\" class=\"dataframe\">\n",
       "  <thead>\n",
       "    <tr style=\"text-align: right;\">\n",
       "      <th></th>\n",
       "      <th>recommendation_1</th>\n",
       "      <th>recommendation_2</th>\n",
       "    </tr>\n",
       "    <tr>\n",
       "      <th>course</th>\n",
       "      <th></th>\n",
       "      <th></th>\n",
       "    </tr>\n",
       "  </thead>\n",
       "  <tbody>\n",
       "    <tr>\n",
       "      <th>356</th>\n",
       "      <td>571</td>\n",
       "      <td>566</td>\n",
       "    </tr>\n",
       "    <tr>\n",
       "      <th>357</th>\n",
       "      <td>571</td>\n",
       "      <td>515</td>\n",
       "    </tr>\n",
       "    <tr>\n",
       "      <th>358</th>\n",
       "      <td>490</td>\n",
       "      <td>840</td>\n",
       "    </tr>\n",
       "    <tr>\n",
       "      <th>359</th>\n",
       "      <td>794</td>\n",
       "      <td>357</td>\n",
       "    </tr>\n",
       "    <tr>\n",
       "      <th>360</th>\n",
       "      <td>794</td>\n",
       "      <td>553</td>\n",
       "    </tr>\n",
       "    <tr>\n",
       "      <th>361</th>\n",
       "      <td>489</td>\n",
       "      <td>356</td>\n",
       "    </tr>\n",
       "    <tr>\n",
       "      <th>362</th>\n",
       "      <td>566</td>\n",
       "      <td>570</td>\n",
       "    </tr>\n",
       "    <tr>\n",
       "      <th>363</th>\n",
       "      <td>551</td>\n",
       "      <td>553</td>\n",
       "    </tr>\n",
       "    <tr>\n",
       "      <th>364</th>\n",
       "      <td>490</td>\n",
       "      <td>679</td>\n",
       "    </tr>\n",
       "    <tr>\n",
       "      <th>365</th>\n",
       "      <td>490</td>\n",
       "      <td>516</td>\n",
       "    </tr>\n",
       "  </tbody>\n",
       "</table>\n",
       "</div>"
      ],
      "text/plain": [
       "        recommendation_1  recommendation_2\n",
       "course                                    \n",
       "356                  571               566\n",
       "357                  571               515\n",
       "358                  490               840\n",
       "359                  794               357\n",
       "360                  794               553\n",
       "361                  489               356\n",
       "362                  566               570\n",
       "363                  551               553\n",
       "364                  490               679\n",
       "365                  490               516"
      ]
     },
     "execution_count": 38,
     "metadata": {},
     "output_type": "execute_result"
    }
   ],
   "source": [
    "recom_table.head(10)"
   ]
  }
 ],
 "metadata": {
  "kernelspec": {
   "display_name": "Python 3",
   "language": "python",
   "name": "python3"
  },
  "language_info": {
   "codemirror_mode": {
    "name": "ipython",
    "version": 3
   },
   "file_extension": ".py",
   "mimetype": "text/x-python",
   "name": "python",
   "nbconvert_exporter": "python",
   "pygments_lexer": "ipython3",
   "version": "3.9.10"
  },
  "orig_nbformat": 4
 },
 "nbformat": 4,
 "nbformat_minor": 2
}
